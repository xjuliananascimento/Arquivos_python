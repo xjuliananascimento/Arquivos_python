{
 "cells": [
  {
   "cell_type": "markdown",
   "metadata": {
    "id": "LG3riz6Ut5X0"
   },
   "source": [
    "# **Regressão Linear Múltipla**"
   ]
  },
  {
   "cell_type": "code",
   "execution_count": null,
   "metadata": {
    "id": "PGFJHjk0tttU"
   },
   "outputs": [],
   "source": [
    "import numpy as np\n",
    "import pandas as pd"
   ]
  },
  {
   "cell_type": "code",
   "execution_count": null,
   "metadata": {
    "id": "wLMmk6o8uEae"
   },
   "outputs": [],
   "source": [
    "enem = pd.read_csv('enem_2019_tratado.csv', sep=',', encoding='iso-8859-1')"
   ]
  },
  {
   "cell_type": "markdown",
   "metadata": {
    "id": "FyUUGTpzykQ7"
   },
   "source": [
    "## Análise inicial"
   ]
  },
  {
   "cell_type": "markdown",
   "metadata": {
    "id": "wUPKG1w8vAzH"
   },
   "source": [
    "**Objetivo: Criar um modelo matemático de regressão linear múltipla para prever a nota de redação tendo como variáveis independentes as notas de seus componentes.**"
   ]
  },
  {
   "cell_type": "code",
   "execution_count": null,
   "metadata": {},
   "outputs": [],
   "source": [
    "enem.head(10)"
   ]
  },
  {
   "cell_type": "code",
   "execution_count": null,
   "metadata": {},
   "outputs": [],
   "source": [
    "enem.columns"
   ]
  },
  {
   "cell_type": "code",
   "execution_count": null,
   "metadata": {},
   "outputs": [],
   "source": [
    "enem.shape"
   ]
  },
  {
   "cell_type": "markdown",
   "metadata": {
    "id": "AD2_7k4TwLbK"
   },
   "source": [
    "**Selecionando apenas um dos colégios**"
   ]
  },
  {
   "cell_type": "code",
   "execution_count": null,
   "metadata": {},
   "outputs": [],
   "source": [
    "colegiox = enem.loc[enem.CO_ESCOLA == 35132287]"
   ]
  },
  {
   "cell_type": "code",
   "execution_count": null,
   "metadata": {},
   "outputs": [],
   "source": [
    "colegiox.head()"
   ]
  },
  {
   "cell_type": "code",
   "execution_count": null,
   "metadata": {},
   "outputs": [],
   "source": [
    "colegiox.shape"
   ]
  },
  {
   "cell_type": "markdown",
   "metadata": {
    "id": "eKnouWHjwaLq"
   },
   "source": [
    "**Valores Missing**"
   ]
  },
  {
   "cell_type": "code",
   "execution_count": null,
   "metadata": {},
   "outputs": [],
   "source": [
    "colegiox.isnull().sum()"
   ]
  },
  {
   "cell_type": "code",
   "execution_count": null,
   "metadata": {},
   "outputs": [],
   "source": [
    "colegiox.dtypes"
   ]
  },
  {
   "cell_type": "markdown",
   "metadata": {
    "id": "txfVfpIMmFtp"
   },
   "source": [
    "## **Regressão múltipla com statsmodel**"
   ]
  },
  {
   "cell_type": "markdown",
   "metadata": {
    "id": "t4GdpiA0yOyh"
   },
   "source": [
    "## **MODELO 1**"
   ]
  },
  {
   "cell_type": "code",
   "execution_count": null,
   "metadata": {
    "colab": {
     "base_uri": "https://localhost:8080/"
    },
    "id": "33t6bYgdy7LC",
    "outputId": "16b1d59b-a540-42e6-db03-63b57c15ff40"
   },
   "outputs": [],
   "source": [
    "import statsmodels.formula.api as smf\n",
    "import statsmodels.stats.api as sms"
   ]
  },
  {
   "cell_type": "code",
   "execution_count": null,
   "metadata": {},
   "outputs": [],
   "source": [
    "variaveis = colegiox[['NOTA_REDACAO', 'COMP2', 'COMP4', 'COMP5']]"
   ]
  },
  {
   "cell_type": "code",
   "execution_count": null,
   "metadata": {},
   "outputs": [],
   "source": [
    "variaveis.corr()"
   ]
  },
  {
   "cell_type": "code",
   "execution_count": null,
   "metadata": {},
   "outputs": [],
   "source": [
    "modelo = smf.ols('NOTA_REDACAO ~ COMP2 + COMP4 + COMP5', data = colegiox).fit()"
   ]
  },
  {
   "cell_type": "code",
   "execution_count": null,
   "metadata": {},
   "outputs": [],
   "source": [
    "residuos = modelo.resid\n",
    "residuos"
   ]
  },
  {
   "cell_type": "markdown",
   "metadata": {
    "id": "eAHuUe4jbiP7"
   },
   "source": [
    "### Teste de Normalidade dos resíduos"
   ]
  },
  {
   "cell_type": "markdown",
   "metadata": {
    "id": "Kwk129HhZNtv"
   },
   "source": [
    "Ho = distribuição normal : p > 0.05\n",
    "\n",
    "Ha = distribuição != normal : p <= 0.05"
   ]
  },
  {
   "cell_type": "code",
   "execution_count": null,
   "metadata": {
    "id": "U56YLUoi0kSu"
   },
   "outputs": [],
   "source": [
    "import scipy.stats as stats"
   ]
  },
  {
   "cell_type": "code",
   "execution_count": null,
   "metadata": {},
   "outputs": [],
   "source": [
    "estatistica, p = stats.shapiro(residuos)"
   ]
  },
  {
   "cell_type": "code",
   "execution_count": null,
   "metadata": {},
   "outputs": [],
   "source": [
    "p"
   ]
  },
  {
   "cell_type": "code",
   "execution_count": null,
   "metadata": {},
   "outputs": [],
   "source": [
    "# Resíduos possuem distribuição normal!"
   ]
  },
  {
   "cell_type": "code",
   "execution_count": null,
   "metadata": {},
   "outputs": [],
   "source": [
    "import matplotlib.pyplot as plt"
   ]
  },
  {
   "cell_type": "code",
   "execution_count": null,
   "metadata": {},
   "outputs": [],
   "source": [
    "stats.probplot(residuos, dist='norm', plot=plt)\n",
    "plt.show()"
   ]
  },
  {
   "cell_type": "markdown",
   "metadata": {
    "id": "xVnnlrFqr2ws"
   },
   "source": [
    "### Análise da Homocedasticidade dos resíduos\n",
    "(resíduos com variação constante)"
   ]
  },
  {
   "cell_type": "code",
   "execution_count": null,
   "metadata": {},
   "outputs": [],
   "source": [
    "plt.scatter(y=residuos, x=modelo.predict(), color='red')\n",
    "plt.hlines(y=0, xmin=550, xmax=1000, color='orange')\n",
    "plt.ylabel('Resíduos')\n",
    "plt.xlabel('Valores Preditos')\n",
    "plt.show()"
   ]
  },
  {
   "cell_type": "markdown",
   "metadata": {
    "id": "9zkKh9XQcZrJ"
   },
   "source": [
    "Teste Breusch-Pagan (Homocedasticidade ou heterocedasticidade)"
   ]
  },
  {
   "cell_type": "markdown",
   "metadata": {
    "id": "74rj-ZfvcYYO"
   },
   "source": [
    "Ho = existe homocedasticidade : p > 0.05\n",
    "\n",
    "Ha = não existe homocedasticidade : p <= 0.05"
   ]
  },
  {
   "cell_type": "code",
   "execution_count": null,
   "metadata": {
    "id": "2RScGd9LYt83"
   },
   "outputs": [],
   "source": [
    "from statsmodels.compat import lzip"
   ]
  },
  {
   "cell_type": "code",
   "execution_count": null,
   "metadata": {},
   "outputs": [],
   "source": [
    "estatistica, p, f, fp = sms.het_breuschpagan(modelo.resid, modelo.model.exog)"
   ]
  },
  {
   "cell_type": "code",
   "execution_count": null,
   "metadata": {},
   "outputs": [],
   "source": [
    "p"
   ]
  },
  {
   "cell_type": "markdown",
   "metadata": {
    "id": "SX_KI2zSgLyz"
   },
   "source": [
    "### **Outliers nos resíduos**"
   ]
  },
  {
   "cell_type": "markdown",
   "metadata": {
    "id": "GZ6ZdkvbgghP"
   },
   "source": [
    "(Entre -3 e 3)"
   ]
  },
  {
   "cell_type": "code",
   "execution_count": null,
   "metadata": {},
   "outputs": [],
   "source": [
    "outliers = modelo.outlier_test()"
   ]
  },
  {
   "cell_type": "code",
   "execution_count": null,
   "metadata": {},
   "outputs": [],
   "source": [
    "outliers.max()"
   ]
  },
  {
   "cell_type": "code",
   "execution_count": null,
   "metadata": {},
   "outputs": [],
   "source": [
    "outliers.min()"
   ]
  },
  {
   "cell_type": "markdown",
   "metadata": {
    "id": "OFTGh67R6Xiv"
   },
   "source": [
    "### **Ausência de Multicolinearidade**"
   ]
  },
  {
   "cell_type": "markdown",
   "metadata": {
    "id": "SUI8Dj6A6wCr"
   },
   "source": [
    "Somente entre as variáveis independentes.\n",
    "\n",
    "Considerada multicolinearidade quando r > 0.9."
   ]
  },
  {
   "cell_type": "code",
   "execution_count": null,
   "metadata": {},
   "outputs": [],
   "source": [
    "variaveis = colegiox[['COMP2', 'COMP4', 'COMP5']]"
   ]
  },
  {
   "cell_type": "code",
   "execution_count": null,
   "metadata": {},
   "outputs": [],
   "source": [
    "correlacoes = variaveis.corr()"
   ]
  },
  {
   "cell_type": "code",
   "execution_count": null,
   "metadata": {},
   "outputs": [],
   "source": [
    "correlacoes"
   ]
  },
  {
   "cell_type": "markdown",
   "metadata": {
    "id": "c0grRJC_AQHv"
   },
   "source": [
    "Usando Fator de Inflação de Variância (VIF)"
   ]
  },
  {
   "cell_type": "markdown",
   "metadata": {
    "id": "EFXVpJ-lVRPn"
   },
   "source": [
    "![VIF.png](data:image/png;base64,iVBORw0KGgoAAAANSUhEUgAAAH0AAAA3CAIAAACuIdJ4AAAAAXNSR0IArs4c6QAAAARnQU1BAACxjwv8YQUAAAAJcEhZcwAADsMAAA7DAcdvqGQAAARDSURBVHhe7ZpBS+NAFID3P+WUQ6EgFDz01Fw6UDB42LJgQNhQMCdlQbKXImzpYelhCUKDsMSDVFgiCApLPSwRhAiSgpCDEBACHgKF7kw6rTVN0tY1zmrfRw+dtE3Sb2bezJvJhwHAAvDOBvDOBvDOBvDOBvDOBvDOBvDOBvCeQN+3D9Vq0wpo+YUB71N45k4FoVKB5zhu9wy8vy53hgTeGQDe2QDe2QDe2QDe2QDe2QDe2QDeXxuaN+Wxdo7LC/h9BllrgvcrTawI9MolJB+6w8PukVzI0YPqqT88aO+LqBxmd8O7/Nald3mpIXoSvlBGCH9UQcIKKXMV3Rl+Z1lJae+u8REbkow7Wg4JznZ5qW37fVqm9HSEv1vr0KoY07fquJ6K9ccG0/fN7Qz771shxbtvbmGXSO/RMuG6JWxozgMtjfGOSDCUDj1aHnPdKuLW/tSydyih/SVv7qnx3drDMjn1fCSt7+hrYutquqXiTkBqaPojrPixPnxLP7Bwh7CavHwc7RjLRpr3J9bCorAXO8JYjUgwodAeo92QgnckF+N/voykeQ/OVaxNGMaEe1MpqWdTgYSQHtzpoEoG2Klm7mhlnt8yY87qmvUtRUl5td92FaZ5H1w2RmvQOJLkleNY6zOCO62PvqNVIkM0IfD9IDJE/xv4gv8n9P5GpHof5g5run1RFzYNN17QfMF9YGmfNXviK955Q96WxRVRD6PQspHqvd+tY3MFUSxLei+pW6cHd/HJdGjMvbnzSXdw7OL4nZO4MXap48zADiMFJ+07iX9y/pn7NCSOxQSfZSDdu2ds4DjTsqcm7IS7joJT0NUwUc0VUEXpjLLaztZcebbTRlxJe28z+Qdbq8nqbrWwKqon8SMiJt37wL/pWrcZdWivs8nxX0eLCu8Fa48X26QtOW2R46oGbYtRZnjPkOBMTQrubxjf3Ob5ctiJ/5DBUTqKb/IMvAc9U2t2rFOVz0mdTIN7Rs/AkEVDFK4Pjtb7VvOFsty6eKLYPRC5FTnpDzLw7v6s8lwRrUdv9CXJ/BmYcMYxMWtwD8ikWRl3X9eQVsXWn8Qrs4szr0B2exeuUY2s912QqEKv9WA11hXjFr9JzArB+3Pwfyn4xJMpuv2dLLwquL0/WPU1Sb/0/HvXqCXOksH7c8CTlsmU0P9dF7i8/MPyyO5COLGmSJ2EUAren0EY3HNCtYYzZ0nEGcxmq9tbbGK2zN4D57jRaCa9tG7SqB+edhzcg4s6roWYZcFUoL0vTDS4h2PsolcB74syXH+dCO7HMi5P7Vwmby2EgPdFic7crSYZSFHbGfT0au1xHE3fWnin3jN5BsYzv6CJJ1ZGaZFrqusFvlSVNneMG3Jknq2Fd93emTBzayEEvGfDrK0F8J4JM7cWwHsWzN5aAO8ZMMfWAnh/SebfWgDvL8n8WwvgnQ3gnQ3gnQ3gnQ3gnQWDwV97LF1+tIZTywAAAABJRU5ErkJggg==)"
   ]
  },
  {
   "cell_type": "markdown",
   "metadata": {},
   "source": [
    "Esse valor deve ser menor que 5!"
   ]
  },
  {
   "cell_type": "code",
   "execution_count": null,
   "metadata": {
    "id": "idIQ8e5T-963"
   },
   "outputs": [],
   "source": [
    "from statsmodels.stats.outliers_influence import variance_inflation_factor\n",
    "from statsmodels.tools.tools import add_constant"
   ]
  },
  {
   "cell_type": "code",
   "execution_count": null,
   "metadata": {},
   "outputs": [],
   "source": [
    "vif = add_constant(variaveis) # função espera a presença de uma constante na matriz de variáveis ​​explicativas\n",
    "pd.Series([variance_inflation_factor(vif.values, j) for j in range(vif.shape[1])], index=vif.columns)"
   ]
  },
  {
   "cell_type": "code",
   "execution_count": null,
   "metadata": {},
   "outputs": [],
   "source": [
    "vif"
   ]
  },
  {
   "cell_type": "markdown",
   "metadata": {
    "id": "BmNV4E9bRkrA"
   },
   "source": [
    "### **Análise do Modelo**"
   ]
  },
  {
   "cell_type": "markdown",
   "metadata": {
    "id": "sQiLvdd-IF64"
   },
   "source": [
    "Análise do modelo\n",
    "\n",
    "Intercept e Coeficiente\n",
    "\n",
    "p_valor para cada coeficiente < 0,05 (estatisticamente significativos).\n",
    "\n",
    "Adjusted R-squared (explicação do modelo através dos dados).\n",
    "\n",
    "p_valor da estatística F < 0.05 (valida o modelo de regressão)."
   ]
  },
  {
   "cell_type": "code",
   "execution_count": null,
   "metadata": {},
   "outputs": [],
   "source": [
    "print(modelo.summary())"
   ]
  },
  {
   "cell_type": "markdown",
   "metadata": {
    "id": "vntw35adIwwO"
   },
   "source": [
    "\n",
    "**Equação:** Nota Redação = 116,1987 + 1,2831.COMP2 + 1,7298.COMP4 + 1,1993.COMP5"
   ]
  },
  {
   "cell_type": "code",
   "execution_count": null,
   "metadata": {},
   "outputs": [],
   "source": [
    "# Criando uma coluna de previsão\n",
    "colegiox['previsao'] = modelo.fittedvalues"
   ]
  },
  {
   "cell_type": "code",
   "execution_count": null,
   "metadata": {},
   "outputs": [],
   "source": [
    "colegiox.head()"
   ]
  },
  {
   "cell_type": "markdown",
   "metadata": {
    "id": "fA_8YAhnReGk"
   },
   "source": [
    "## **MODELO 2**"
   ]
  },
  {
   "cell_type": "code",
   "execution_count": null,
   "metadata": {
    "id": "b5I4W58vReG8"
   },
   "outputs": [],
   "source": [
    "import statsmodels.formula.api as smf\n",
    "import statsmodels.stats.api as sms"
   ]
  },
  {
   "cell_type": "code",
   "execution_count": null,
   "metadata": {
    "id": "3viFrBC9ReG9"
   },
   "outputs": [],
   "source": [
    "# Criação do modelo\n",
    "modelo2 = smf.ols('NOTA_REDACAO ~ COMP2 + COMP4', data = colegiox).fit()"
   ]
  },
  {
   "cell_type": "code",
   "execution_count": null,
   "metadata": {
    "colab": {
     "base_uri": "https://localhost:8080/"
    },
    "id": "lCl5qlucReG-",
    "outputId": "ac964141-aee1-457f-b2e2-5a4aa82f0d42"
   },
   "outputs": [],
   "source": [
    "residuos2 = modelo2.resid\n",
    "residuos2"
   ]
  },
  {
   "cell_type": "markdown",
   "metadata": {
    "id": "wfaWj0ciReG_"
   },
   "source": [
    "### Teste de Normalidade dos resíduos"
   ]
  },
  {
   "cell_type": "code",
   "execution_count": null,
   "metadata": {
    "id": "M-_Vs-dHReG_"
   },
   "outputs": [],
   "source": [
    "import scipy.stats as stats"
   ]
  },
  {
   "cell_type": "markdown",
   "metadata": {
    "id": "yFKFMRghReG_"
   },
   "source": [
    "Ho = distribuição normal : p > 0.05\n",
    "\n",
    "Ha = distribuição != normal : p <= 0.05"
   ]
  },
  {
   "cell_type": "code",
   "execution_count": null,
   "metadata": {
    "colab": {
     "base_uri": "https://localhost:8080/"
    },
    "id": "qn9g5b1qReHA",
    "outputId": "e7f4e05a-d5bb-4678-e260-9387e2ae0c2b"
   },
   "outputs": [],
   "source": [
    "estatistica, p = stats.shapiro(residuos2)\n",
    "print('Estatística de teste: {}'.format(estatistica))\n",
    "print('p-valor: {}'.format(p))"
   ]
  },
  {
   "cell_type": "code",
   "execution_count": null,
   "metadata": {
    "id": "z3arm23oReHA"
   },
   "outputs": [],
   "source": [
    "import matplotlib.pyplot as plt"
   ]
  },
  {
   "cell_type": "code",
   "execution_count": null,
   "metadata": {
    "colab": {
     "base_uri": "https://localhost:8080/",
     "height": 295
    },
    "id": "r4Z3mnM7ReHB",
    "outputId": "fd6c8191-9b07-4c66-9a55-54ddfd57cf7b"
   },
   "outputs": [],
   "source": [
    "stats.probplot(residuos2, dist=\"norm\", plot=plt)\n",
    "plt.title(\"Normal Q-Q plot - Resíduos\")\n",
    "plt.show()"
   ]
  },
  {
   "cell_type": "markdown",
   "metadata": {
    "id": "jZN8cEGLXMLs"
   },
   "source": [
    "### Análise da Homocedasticidade dos resíduos\n",
    "(resíduos com variação constante)"
   ]
  },
  {
   "cell_type": "code",
   "execution_count": null,
   "metadata": {
    "colab": {
     "base_uri": "https://localhost:8080/",
     "height": 281
    },
    "id": "CqrLYnx-XMMI",
    "outputId": "2c7f28c5-9065-4565-d356-c118950fbf49"
   },
   "outputs": [],
   "source": [
    "plt.scatter(y=residuos2, x=modelo2.predict(), color='red')\n",
    "plt.hlines(y=0, xmin=600, xmax=1000, color='orange')\n",
    "plt.ylabel('Resíduos')\n",
    "plt.xlabel('Valores Preditos')\n",
    "plt.show()"
   ]
  },
  {
   "cell_type": "markdown",
   "metadata": {
    "id": "8twBXcYjXMMJ"
   },
   "source": [
    "Teste Breusch-Pagan (Homocedasticidade ou heterocedasticidade)"
   ]
  },
  {
   "cell_type": "markdown",
   "metadata": {
    "id": "x5Rz7dlwXMMK"
   },
   "source": [
    "Ho = existe homocedasticidade : p > 0.05\n",
    "\n",
    "Ha = não existe homocedasticidade : p <= 0.05"
   ]
  },
  {
   "cell_type": "code",
   "execution_count": null,
   "metadata": {
    "id": "fwq59bFvXMMK"
   },
   "outputs": [],
   "source": [
    "from statsmodels.compat import lzip\n",
    "import statsmodels.stats.api as sms"
   ]
  },
  {
   "cell_type": "code",
   "execution_count": null,
   "metadata": {
    "colab": {
     "base_uri": "https://localhost:8080/"
    },
    "id": "2YKirf2JXMMM",
    "outputId": "dadff378-ca7b-470c-c348-88080a01d65d"
   },
   "outputs": [],
   "source": [
    "estatistica, p, f, fp = sms.het_breuschpagan (modelo2.resid, modelo2.model.exog)\n",
    "print('Estatística de teste: {}'.format(estatistica))\n",
    "print('p-valor: {}'.format(p))\n",
    "print('f-valor: {}'.format(f))\n",
    "print('f_p-valor: {}'.format(fp))"
   ]
  },
  {
   "cell_type": "markdown",
   "metadata": {
    "id": "Rc7mtwgiXMMN"
   },
   "source": [
    "### **Outliers nos resíduos**"
   ]
  },
  {
   "cell_type": "markdown",
   "metadata": {
    "id": "NVKTJdfIXMMN"
   },
   "source": [
    "(Entre -3 e 3)"
   ]
  },
  {
   "cell_type": "code",
   "execution_count": null,
   "metadata": {
    "id": "Ayfbtps2XMMO"
   },
   "outputs": [],
   "source": [
    "outliers = modelo2.outlier_test()"
   ]
  },
  {
   "cell_type": "code",
   "execution_count": null,
   "metadata": {
    "colab": {
     "base_uri": "https://localhost:8080/"
    },
    "id": "OKfeiYiUXMMO",
    "outputId": "c3155449-2e96-4ce8-e635-b4659bb164a1"
   },
   "outputs": [],
   "source": [
    "outliers.max()"
   ]
  },
  {
   "cell_type": "code",
   "execution_count": null,
   "metadata": {
    "colab": {
     "base_uri": "https://localhost:8080/"
    },
    "id": "RK10XKhqXMMO",
    "outputId": "0dc015ae-baf5-4f88-99c3-560e43116d29"
   },
   "outputs": [],
   "source": [
    "outliers.min()"
   ]
  },
  {
   "cell_type": "markdown",
   "metadata": {
    "id": "jjmrBW32XMMP"
   },
   "source": [
    "### **Independência dos resíduos (Durbin-Watson)**\n",
    "ideal para medidas repetidas (longitudinais: Ex: mesmo aluno)"
   ]
  },
  {
   "cell_type": "markdown",
   "metadata": {
    "id": "dya6XrysXMMP"
   },
   "source": [
    "A estatística de teste é aproximadamente igual a 2 * (1-r) onde r é a autocorrelação da amostra dos resíduos. Assim, para r = 0, a estatística de teste é igual a 2, indicando independência dos resíduos (o resultado vai de 0 a 4)."
   ]
  },
  {
   "cell_type": "code",
   "execution_count": null,
   "metadata": {
    "id": "GsrVmlRbXMMP"
   },
   "outputs": [],
   "source": [
    "import statsmodels\n",
    "from statsmodels.tools.sm_exceptions import ValueWarning\n"
   ]
  },
  {
   "cell_type": "code",
   "execution_count": null,
   "metadata": {
    "colab": {
     "base_uri": "https://localhost:8080/"
    },
    "id": "C4BqDrAMXMMQ",
    "outputId": "a21ccec0-946b-4037-a2e6-4940758f0fbb"
   },
   "outputs": [],
   "source": [
    "estatistica = statsmodels.stats.stattools.durbin_watson(modelo2.resid)\n",
    "print('Estatística de teste: {}'.format(estatistica))"
   ]
  },
  {
   "cell_type": "markdown",
   "metadata": {
    "id": "HmtmizrCXMMQ"
   },
   "source": [
    "### **Ausência de Multicolinearidade**"
   ]
  },
  {
   "cell_type": "markdown",
   "metadata": {
    "id": "q1nQ066CXMMQ"
   },
   "source": [
    "Somente entre as variáveis independentes.\n",
    "\n",
    "Considerada multicolinearidade quando r > 0.9."
   ]
  },
  {
   "cell_type": "code",
   "execution_count": null,
   "metadata": {
    "id": "iuYhkcF9XMMR"
   },
   "outputs": [],
   "source": [
    "variaveis2 = colegiox[['COMP2','COMP4']]"
   ]
  },
  {
   "cell_type": "code",
   "execution_count": null,
   "metadata": {
    "colab": {
     "base_uri": "https://localhost:8080/",
     "height": 204
    },
    "id": "EirLoBbMXMMR",
    "outputId": "80db95b3-74e1-498b-9260-eafec6e780a5"
   },
   "outputs": [],
   "source": [
    "variaveis2.head()"
   ]
  },
  {
   "cell_type": "code",
   "execution_count": null,
   "metadata": {
    "colab": {
     "base_uri": "https://localhost:8080/",
     "height": 111
    },
    "id": "Tsv7MNodXMMR",
    "outputId": "067d8646-db48-47ec-8715-b7076ade30a4"
   },
   "outputs": [],
   "source": [
    "correlacoes = variaveis2.corr(method='pearson')\n",
    "correlacoes"
   ]
  },
  {
   "cell_type": "markdown",
   "metadata": {
    "id": "MxbK2y5TXMMS"
   },
   "source": [
    "Usando Fator de Inflação de Variância (VIF)"
   ]
  },
  {
   "cell_type": "markdown",
   "metadata": {
    "id": "iRUNfmRbXMMS"
   },
   "source": [
    "![VIF.png](data:image/png;base64,iVBORw0KGgoAAAANSUhEUgAAAH0AAAA3CAIAAACuIdJ4AAAAAXNSR0IArs4c6QAAAARnQU1BAACxjwv8YQUAAAAJcEhZcwAADsMAAA7DAcdvqGQAAARDSURBVHhe7ZpBS+NAFID3P+WUQ6EgFDz01Fw6UDB42LJgQNhQMCdlQbKXImzpYelhCUKDsMSDVFgiCApLPSwRhAiSgpCDEBACHgKF7kw6rTVN0tY1zmrfRw+dtE3Sb2bezJvJhwHAAvDOBvDOBvDOBvDOBvDOBvDOBvDOBvCeQN+3D9Vq0wpo+YUB71N45k4FoVKB5zhu9wy8vy53hgTeGQDe2QDe2QDe2QDe2QDe2QDe2QDeXxuaN+Wxdo7LC/h9BllrgvcrTawI9MolJB+6w8PukVzI0YPqqT88aO+LqBxmd8O7/Nald3mpIXoSvlBGCH9UQcIKKXMV3Rl+Z1lJae+u8REbkow7Wg4JznZ5qW37fVqm9HSEv1vr0KoY07fquJ6K9ccG0/fN7Qz771shxbtvbmGXSO/RMuG6JWxozgMtjfGOSDCUDj1aHnPdKuLW/tSydyih/SVv7qnx3drDMjn1fCSt7+hrYutquqXiTkBqaPojrPixPnxLP7Bwh7CavHwc7RjLRpr3J9bCorAXO8JYjUgwodAeo92QgnckF+N/voykeQ/OVaxNGMaEe1MpqWdTgYSQHtzpoEoG2Klm7mhlnt8yY87qmvUtRUl5td92FaZ5H1w2RmvQOJLkleNY6zOCO62PvqNVIkM0IfD9IDJE/xv4gv8n9P5GpHof5g5run1RFzYNN17QfMF9YGmfNXviK955Q96WxRVRD6PQspHqvd+tY3MFUSxLei+pW6cHd/HJdGjMvbnzSXdw7OL4nZO4MXap48zADiMFJ+07iX9y/pn7NCSOxQSfZSDdu2ds4DjTsqcm7IS7joJT0NUwUc0VUEXpjLLaztZcebbTRlxJe28z+Qdbq8nqbrWwKqon8SMiJt37wL/pWrcZdWivs8nxX0eLCu8Fa48X26QtOW2R46oGbYtRZnjPkOBMTQrubxjf3Ob5ctiJ/5DBUTqKb/IMvAc9U2t2rFOVz0mdTIN7Rs/AkEVDFK4Pjtb7VvOFsty6eKLYPRC5FTnpDzLw7v6s8lwRrUdv9CXJ/BmYcMYxMWtwD8ikWRl3X9eQVsXWn8Qrs4szr0B2exeuUY2s912QqEKv9WA11hXjFr9JzArB+3Pwfyn4xJMpuv2dLLwquL0/WPU1Sb/0/HvXqCXOksH7c8CTlsmU0P9dF7i8/MPyyO5COLGmSJ2EUAren0EY3HNCtYYzZ0nEGcxmq9tbbGK2zN4D57jRaCa9tG7SqB+edhzcg4s6roWYZcFUoL0vTDS4h2PsolcB74syXH+dCO7HMi5P7Vwmby2EgPdFic7crSYZSFHbGfT0au1xHE3fWnin3jN5BsYzv6CJJ1ZGaZFrqusFvlSVNneMG3Jknq2Fd93emTBzayEEvGfDrK0F8J4JM7cWwHsWzN5aAO8ZMMfWAnh/SebfWgDvL8n8WwvgnQ3gnQ3gnQ3gnQ3gnQWDwV97LF1+tIZTywAAAABJRU5ErkJggg==)"
   ]
  },
  {
   "cell_type": "code",
   "execution_count": null,
   "metadata": {
    "id": "qrtABUnLXMMT"
   },
   "outputs": [],
   "source": [
    "from statsmodels.stats.outliers_influence import variance_inflation_factor\n",
    "from statsmodels.tools.tools import add_constant"
   ]
  },
  {
   "cell_type": "code",
   "execution_count": null,
   "metadata": {
    "colab": {
     "base_uri": "https://localhost:8080/"
    },
    "id": "1ULcb9BPXMMT",
    "outputId": "5efd9b04-fa2b-4fb5-e72c-32e6cebbfe8b"
   },
   "outputs": [],
   "source": [
    "vif = add_constant(variaveis2) # função espera a presença de uma constante na matriz de variáveis ​​explicativas\n",
    "pd.Series([variance_inflation_factor(vif.values, i) for i in range(vif.shape[1])], index=vif.columns)"
   ]
  },
  {
   "cell_type": "markdown",
   "metadata": {
    "id": "ZtQOnCITXMMT"
   },
   "source": [
    "### **Análise do Modelo**"
   ]
  },
  {
   "cell_type": "markdown",
   "metadata": {
    "id": "qzYVTTgoXMMU"
   },
   "source": [
    "Análise do modelo\n",
    "\n",
    "Intercept\n",
    "\n",
    "p_valor para cada coeficiente < 0,05 (estatisticamente significativos).\n",
    "\n",
    "Adjusted R-squared (explicação do modelo através dos dados).\n",
    "\n",
    "p_valor da estatística F < 0.05 (valida o modelo de regressão)."
   ]
  },
  {
   "cell_type": "code",
   "execution_count": null,
   "metadata": {
    "colab": {
     "base_uri": "https://localhost:8080/"
    },
    "id": "3Kie-Y_9XMMU",
    "outputId": "158a57df-dd67-4eb6-ed4f-1eb55de720f6"
   },
   "outputs": [],
   "source": [
    "print(modelo2.summary())"
   ]
  },
  {
   "cell_type": "markdown",
   "metadata": {
    "id": "qQchPC3hXMMU"
   },
   "source": [
    "**Equação:** Nota Redação = 214,0062 + 1,4391.COMP2 + 2,1895.COMP4"
   ]
  },
  {
   "cell_type": "code",
   "execution_count": null,
   "metadata": {
    "id": "hPczdNUNXMMV"
   },
   "outputs": [],
   "source": [
    "# Criando uma coluna com previsão\n",
    "colegiox['previsao2'] = modelo2.fittedvalues"
   ]
  },
  {
   "cell_type": "code",
   "execution_count": null,
   "metadata": {
    "colab": {
     "base_uri": "https://localhost:8080/",
     "height": 224
    },
    "id": "dQ4cqkzAY-oN",
    "outputId": "8448c48b-a3b7-48b0-c689-03b3a1871b24"
   },
   "outputs": [],
   "source": [
    "colegiox.head()"
   ]
  },
  {
   "cell_type": "markdown",
   "metadata": {
    "id": "ioEDgHeWZfP7"
   },
   "source": [
    "### **COMPARAÇÃO ENTRE MODELOS**"
   ]
  },
  {
   "cell_type": "markdown",
   "metadata": {
    "id": "zlB96hq-Z24K"
   },
   "source": [
    "**Critério de Informação de Akaike (AIC)**\n",
    "\n",
    "O melhor modelo é com resultado menor (menor variação dos resíduos)"
   ]
  },
  {
   "cell_type": "code",
   "execution_count": null,
   "metadata": {
    "colab": {
     "base_uri": "https://localhost:8080/"
    },
    "id": "0HqFiQwGZk7K",
    "outputId": "88cc4663-6d3a-4d89-fad2-b5dc3a0c5ab2"
   },
   "outputs": [],
   "source": [
    "modelo1.aic"
   ]
  },
  {
   "cell_type": "code",
   "execution_count": null,
   "metadata": {
    "colab": {
     "base_uri": "https://localhost:8080/"
    },
    "id": "D76dDd-rZrbS",
    "outputId": "f3631f63-464b-4c04-849f-ffd71147a02e"
   },
   "outputs": [],
   "source": [
    "modelo2.aic"
   ]
  },
  {
   "cell_type": "markdown",
   "metadata": {
    "id": "S3DC-gmNaA9I"
   },
   "source": [
    "**Critério de Informação Bayesiano (BIC)**\n",
    "\n",
    "O melhor modelo é com resultado menor (menor variação dos resíduos)"
   ]
  },
  {
   "cell_type": "code",
   "execution_count": null,
   "metadata": {
    "colab": {
     "base_uri": "https://localhost:8080/"
    },
    "id": "THFvdO4IaJ3H",
    "outputId": "7df4ddda-a146-4142-b172-8459314d20a1"
   },
   "outputs": [],
   "source": [
    "modelo1.bic"
   ]
  },
  {
   "cell_type": "code",
   "execution_count": null,
   "metadata": {
    "colab": {
     "base_uri": "https://localhost:8080/"
    },
    "id": "REnWjKvLaQoT",
    "outputId": "f498c852-e88b-4505-adaf-5da7412459e5"
   },
   "outputs": [],
   "source": [
    "modelo2.bic"
   ]
  },
  {
   "cell_type": "markdown",
   "metadata": {
    "id": "ONyyEyd4acvK"
   },
   "source": [
    "**Coeficiente de determinação (R^2)**"
   ]
  },
  {
   "cell_type": "code",
   "execution_count": null,
   "metadata": {
    "colab": {
     "base_uri": "https://localhost:8080/"
    },
    "id": "hhm-Gik-aUPK",
    "outputId": "f1f622b2-ab7f-4fe6-819a-ec4d10275674"
   },
   "outputs": [],
   "source": [
    "modelo1.rsquared_adj"
   ]
  },
  {
   "cell_type": "code",
   "execution_count": null,
   "metadata": {
    "colab": {
     "base_uri": "https://localhost:8080/"
    },
    "id": "a2xcdrmjaZPm",
    "outputId": "8553fbea-39e1-4321-f4d4-b76aaf36a679"
   },
   "outputs": [],
   "source": [
    "modelo2.rsquared_adj"
   ]
  },
  {
   "cell_type": "markdown",
   "metadata": {
    "id": "pQCmxVs-gYSF"
   },
   "source": [
    "## **REGRESSÃO MÚLTIPLA COM SCIKIT-LEARN**"
   ]
  },
  {
   "cell_type": "markdown",
   "metadata": {
    "id": "FrIJisVcl1mh"
   },
   "source": [
    "## **MODELO 3**"
   ]
  },
  {
   "cell_type": "code",
   "execution_count": null,
   "metadata": {
    "id": "kgYpMcLwkZUE"
   },
   "outputs": [],
   "source": [
    "from sklearn.linear_model import LinearRegression"
   ]
  },
  {
   "cell_type": "code",
   "execution_count": null,
   "metadata": {
    "id": "aX8qGculivhJ"
   },
   "outputs": [],
   "source": [
    "independente = colegiox[['COMP2','COMP4','COMP5']]\n"
   ]
  },
  {
   "cell_type": "code",
   "execution_count": null,
   "metadata": {},
   "outputs": [],
   "source": [
    "independente"
   ]
  },
  {
   "cell_type": "code",
   "execution_count": null,
   "metadata": {
    "id": "Qqq3fnIvjP3R"
   },
   "outputs": [],
   "source": [
    "dependente = colegiox[['NOTA_REDACAO']]"
   ]
  },
  {
   "cell_type": "code",
   "execution_count": null,
   "metadata": {},
   "outputs": [],
   "source": [
    "dependente"
   ]
  },
  {
   "cell_type": "code",
   "execution_count": null,
   "metadata": {
    "colab": {
     "base_uri": "https://localhost:8080/"
    },
    "id": "WUP3-e_okhcd",
    "outputId": "150dff00-6bb1-42ac-b598-eacb94adac37"
   },
   "outputs": [],
   "source": [
    "modelo3 = LinearRegression()\n",
    "modelo3.fit(independente, dependente)"
   ]
  },
  {
   "cell_type": "code",
   "execution_count": null,
   "metadata": {
    "colab": {
     "base_uri": "https://localhost:8080/"
    },
    "id": "wTgjt31Ep3NI",
    "outputId": "129fd6e6-da42-4e9a-da89-2ebc0786d3b9"
   },
   "outputs": [],
   "source": [
    "modelo3.intercept_"
   ]
  },
  {
   "cell_type": "code",
   "execution_count": null,
   "metadata": {
    "colab": {
     "base_uri": "https://localhost:8080/"
    },
    "id": "9BgX7VTMuv1q",
    "outputId": "e5b47c8a-2537-4fd7-fd53-aa0fb6b87097"
   },
   "outputs": [],
   "source": [
    "modelo3.coef_"
   ]
  },
  {
   "cell_type": "code",
   "execution_count": null,
   "metadata": {
    "colab": {
     "base_uri": "https://localhost:8080/"
    },
    "id": "8nn9ATOblAPt",
    "outputId": "aa264592-3d19-4e57-eed3-7cfaea4fafc6"
   },
   "outputs": [],
   "source": [
    "print(\"Equação: NOTA REDAÇÃO = {:.2f} + {:.2f}*COMP2 + {:.2f}*COMP4 + {:.2f}*COMP5\".format(modelo3.intercept_[0], modelo3.coef_[0][0], modelo3.coef_[0][1], modelo3.coef_[0][2]))"
   ]
  },
  {
   "cell_type": "code",
   "execution_count": null,
   "metadata": {
    "colab": {
     "base_uri": "https://localhost:8080/"
    },
    "id": "4n_LXotMoJpM",
    "outputId": "540159c8-1eea-4e8b-8ea0-67dd91a724c9"
   },
   "outputs": [],
   "source": [
    "modelo3.score(independente, dependente)"
   ]
  },
  {
   "cell_type": "markdown",
   "metadata": {
    "id": "DIrRL7MVtQ1P"
   },
   "source": [
    "## **MODELO 4**"
   ]
  },
  {
   "cell_type": "code",
   "execution_count": null,
   "metadata": {
    "id": "J5MG11CxtQ1S"
   },
   "outputs": [],
   "source": [
    "independente2 = colegiox[['COMP2','COMP4']]"
   ]
  },
  {
   "cell_type": "code",
   "execution_count": null,
   "metadata": {
    "id": "Atg4O0OKtQ1S"
   },
   "outputs": [],
   "source": [
    "dependente2 = colegiox[['NOTA_REDACAO']]"
   ]
  },
  {
   "cell_type": "code",
   "execution_count": null,
   "metadata": {
    "colab": {
     "base_uri": "https://localhost:8080/"
    },
    "id": "Dzc4QAYttQ1T",
    "outputId": "8abb8dfd-0ceb-468a-dda6-3bc7984f7178"
   },
   "outputs": [],
   "source": [
    "modelo4 = LinearRegression()\n",
    "modelo4.fit(independente2, dependente2)"
   ]
  },
  {
   "cell_type": "code",
   "execution_count": null,
   "metadata": {
    "colab": {
     "base_uri": "https://localhost:8080/"
    },
    "id": "xNktOj9DtQ1U",
    "outputId": "5a8e302c-4776-4547-99fe-e395e9810d10"
   },
   "outputs": [],
   "source": [
    "modelo4.intercept_"
   ]
  },
  {
   "cell_type": "code",
   "execution_count": null,
   "metadata": {
    "colab": {
     "base_uri": "https://localhost:8080/"
    },
    "id": "4eunCh0Bu2mU",
    "outputId": "867dce51-7125-4032-857f-9e02306cb404"
   },
   "outputs": [],
   "source": [
    "modelo4.coef_"
   ]
  },
  {
   "cell_type": "code",
   "execution_count": null,
   "metadata": {
    "colab": {
     "base_uri": "https://localhost:8080/"
    },
    "id": "5eIgqHdMtQ1V",
    "outputId": "31097277-cb8a-4de0-c78a-f1af70ea222e"
   },
   "outputs": [],
   "source": [
    "print(\"Equação: NOTA REDAÇÃO = {:.2f} + {:.2f}*COMP2 + {:.2f}*COMP4\".format(modelo4.intercept_[0], modelo4.coef_[0][0], modelo4.coef_[0][1]))"
   ]
  },
  {
   "cell_type": "code",
   "execution_count": null,
   "metadata": {
    "colab": {
     "base_uri": "https://localhost:8080/"
    },
    "id": "o3_6LbeAtQ1W",
    "outputId": "6ccceca5-c46d-4a45-ab08-ec543b5ddf94"
   },
   "outputs": [],
   "source": [
    "modelo4.score(independente2, dependente2)"
   ]
  },
  {
   "cell_type": "code",
   "execution_count": null,
   "metadata": {},
   "outputs": [],
   "source": []
  }
 ],
 "metadata": {
  "colab": {
   "name": "regressao_multipla.ipynb",
   "provenance": []
  },
  "kernelspec": {
   "display_name": "Python 3 (ipykernel)",
   "language": "python",
   "name": "python3"
  },
  "language_info": {
   "codemirror_mode": {
    "name": "ipython",
    "version": 3
   },
   "file_extension": ".py",
   "mimetype": "text/x-python",
   "name": "python",
   "nbconvert_exporter": "python",
   "pygments_lexer": "ipython3",
   "version": "3.9.13"
  }
 },
 "nbformat": 4,
 "nbformat_minor": 1
}
